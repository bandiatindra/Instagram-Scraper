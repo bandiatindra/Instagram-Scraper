{
 "cells": [
  {
   "cell_type": "markdown",
   "metadata": {},
   "source": [
    "# Instagram Scraper - This is a web scraper using Selenium and Python\n",
    "\n",
    "### The following instagram scraper can be used to scrpae the # of followers of a user and a list of all the followers.\n",
    "\n",
    "### This scraper has further been extended to get a csv of the # of followers for each user who is following a specific account. For example if you want to see the # of followers of all the users who are following a particular insta page, it can be done easily using this scraper.\n",
    "\n",
    "*Caveat*: Please use this scraper carefully and for analytics and educational purposes only! Also, note that this scraper was working as of Janary 7, 2019. It might be possible that with updated to Instagram some of the functionalities might not work, so you might have to update some sections of the code. However, the overall structure should remain same. \n",
    "\n"
   ]
  },
  {
   "cell_type": "markdown",
   "metadata": {},
   "source": [
    "### How is this useful?\n",
    "\n",
    "This is a metodology to convert unstructured social media data on Instagram into digestibe information which can be analyzed to get intersting insights.  \n",
    "\n",
    "This scraper can be extended further to understand the number of comments and likes on different pictures posted by an instagram page and understand how the engagement is changing for different users. \n",
    "\n",
    "For example, if you’re running an Instagram account for an online ecommerce store, you may want to investigate how different product photos perform against each other. By using engagement data you can identify which pictures are better and who are your followers who are liking/commenting on your pics. You can get a much better understanding of your followers and a deep dive into that can help you understand their preferences and likes/dislikes, which are crtical for any business. "
   ]
  },
  {
   "cell_type": "markdown",
   "metadata": {},
   "source": [
    "### Enough of the bakcground, let's actually see the scraper in action! "
   ]
  },
  {
   "cell_type": "markdown",
   "metadata": {},
   "source": [
    "#### Import the following packages"
   ]
  },
  {
   "cell_type": "code",
   "execution_count": 505,
   "metadata": {},
   "outputs": [],
   "source": [
    "from time import sleep\n",
    "from selenium import webdriver\n",
    "from selenium.webdriver.common.action_chains import ActionChains\n",
    "\n",
    "from selenium.webdriver.chrome.options import Options\n",
    "from selenium.webdriver.support.ui import WebDriverWait\n",
    "from selenium.webdriver.common.by import By\n",
    "from selenium.webdriver.support import expected_conditions as EC\n",
    "import pandas as pd"
   ]
  },
  {
   "cell_type": "markdown",
   "metadata": {},
   "source": [
    "#### Install the latest version of Chromedriver from here - https://chromedriver.storage.googleapis.com/index.html?path=2.42/\n",
    "\n",
    "#### Further, make sure that you have Google Chrome installed on your machine."
   ]
  },
  {
   "cell_type": "code",
   "execution_count": 506,
   "metadata": {},
   "outputs": [],
   "source": [
    "# Enter the address where you have installed hrome driver on your machine\n",
    "browser = webdriver.Chrome('C:/Users/bandi/Desktop/Text Analytics/chromedriver_win32/chromedriver')\n",
    "browser.get('https://www.instagram.com')\n",
    "login_elem = browser.find_element_by_xpath('//*[@id=\"react-root\"]/section/main/article/div[2]/div[2]/p/a')\n",
    "login_elem.click()\n",
    "# Note that it is important for Chrome to give some time to load all the functionalities, otherwise it will throw an error.\n",
    "sleep(3)"
   ]
  },
  {
   "cell_type": "markdown",
   "metadata": {},
   "source": [
    "#### Enter your Instagram's user_name and password below to log in into your account "
   ]
  },
  {
   "cell_type": "code",
   "execution_count": 507,
   "metadata": {},
   "outputs": [],
   "source": [
    "if __name__ == \"__main__\":    \n",
    "    \n",
    "    uname = browser.find_element_by_name(\"username\")\n",
    "    uname.send_keys('ENTER YOUR USER NAME')\n",
    "    sleep(1)\n",
    "\n",
    "    passw = browser.find_element_by_name(\"password\")\n",
    "    passw.send_keys('ENTER YOUR PASSWORD')\n",
    "    sleep(1)\n",
    "    login_button = browser.find_element_by_xpath('//*[@id=\"react-root\"]/section/main/div/article/div/div[1]/div/form/div[3]/button').click()"
   ]
  },
  {
   "cell_type": "code",
   "execution_count": 508,
   "metadata": {},
   "outputs": [],
   "source": [
    "# Turn off notifications pop-up. This line of code will help in closing the notifications pop-up.\n",
    "browser.find_element_by_class_name('mt3GC').click()"
   ]
  },
  {
   "cell_type": "code",
   "execution_count": 509,
   "metadata": {},
   "outputs": [],
   "source": [
    "from selenium import webdriver\n",
    "from selenium.webdriver.common.keys import Keys\n",
    "import time\n",
    "# Find the search element on the homepage\n",
    "time.sleep(2)\n",
    "search =  browser.find_element_by_xpath('//*[@id=\"react-root\"]/section/nav/div[2]/div/div/div[2]/input')\n",
    "# Enter the user name of the instagram account whose followers you would like to scrape.\n",
    "search.send_keys('ENTER USER ID OF THE INSTA USER/PAGE YOU ARE INTERED IN SCRAPING')\n",
    "time.sleep(2)\n",
    "search.send_keys(Keys.ENTER)\n",
    "time.sleep(2)\n",
    "search.send_keys(Keys.ENTER)"
   ]
  },
  {
   "cell_type": "markdown",
   "metadata": {},
   "source": [
    "#### The following set of code will help us extract the total # of followers and a list of all the followers of the user entered above "
   ]
  },
  {
   "cell_type": "code",
   "execution_count": 510,
   "metadata": {},
   "outputs": [
    {
     "name": "stdout",
     "output_type": "stream",
     "text": [
      "The total number of followers of the user are 245\n"
     ]
    }
   ],
   "source": [
    "followers_count = int(browser.find_element_by_xpath(\"//span[@id='react-root']//span[@title]\").text)\n",
    "print ('The total number of followers of the user are', followers_count)"
   ]
  },
  {
   "cell_type": "code",
   "execution_count": 511,
   "metadata": {},
   "outputs": [],
   "source": [
    "# Open the followers window which lists all the followers\n",
    "followersLink = browser.find_element_by_css_selector('ul li a')\n",
    "followersLink.click()\n",
    "time.sleep(2)\n",
    "followersList = browser.find_element_by_css_selector('div[role=\\'dialog\\'] ul')\n",
    "numberOfFollowersInList = len(followersList.find_elements_by_css_selector('li'))"
   ]
  },
  {
   "cell_type": "code",
   "execution_count": 512,
   "metadata": {},
   "outputs": [],
   "source": [
    "for i in range (10):\n",
    "    followersList.click()\n",
    "    actionChain = webdriver.ActionChains(browser)\n",
    "    actionChain.key_down(Keys.SPACE).key_up(Keys.SPACE).perform()"
   ]
  },
  {
   "cell_type": "code",
   "execution_count": 513,
   "metadata": {},
   "outputs": [],
   "source": [
    "# Scroll down the followers pop-up window till all the followers have been loaded\n",
    "while (numberOfFollowersInList < followers_count - 1):\n",
    "    actionChain.key_down(Keys.SPACE).key_up(Keys.SPACE).perform()\n",
    "    followersList = browser.find_element_by_css_selector('div[role=\\'dialog\\'] ul')\n",
    "    numberOfFollowersInList = len(followersList.find_elements_by_css_selector('li'))"
   ]
  },
  {
   "cell_type": "code",
   "execution_count": 514,
   "metadata": {
    "collapsed": true
   },
   "outputs": [
    {
     "name": "stdout",
     "output_type": "stream",
     "text": [
      "The followers for this user are:\n",
      " ['randybohl', 'fukunagap21ef9', 'siegmund67b0d', 'divyavajjala', 'pavimaris', 'patkarameya', 'beverage_sam', 'rapalliance', 'olivialaaaan', 'karunaggarwal', 'lalit_khattar', 'leapingclam', 'texas.lovelonghorns', '__kshitij__a', 'chushul', 'ayushmittal28', 'rachelhwy56', 'chi.raag', 'akratre', 'vasundharasark', 'agnihotri.dev', 'abhilasha_k', 'bawara_pratap', 'neha_javeri', 'bhawanaverma__', 'adarshgoyal4394', 'navneetnimish', 'ianmolarora07', 'priyanshupankaj', 'pawan.yalla', 'sandeepnry80', 'nikhsk', 'frivolous_ghumakkad', 'mrigaunkpillai', 'renu.dahiya.92', 'vicky.issac', 'shubh.samkaria', 'abhishekgoel19', 'this_is_samar', '_divyanshu_goel', 'chadhasahab', 'babbe_15', 'jejilee816', 'emibuzz', 'prachilunkad', 'lovekesh_13', 'ashutoshshukla2894', 'dushyantvarshney', 'rajeshmeena2575', 'jayaprakashmude', 'lakeishasteinmi', 'rawat.sora', 'che.agarwal', 'snehavirmani', 'ct_18_virat', 'yash_d_mehta', 'dang.shi.cute', 'm.k.trader', 'henry00320', 'mehta28', 'hayatmuntashir', 'vivek_baghotia', 'cat_mcnabb', 'hellolena098', 'rish_ramsey', 'cheleymatt', 'amiteshkumar9', 'shivam.ahuja.10', 'anshulbhaiya', 'tiffblahthegiraffe', 'deydennis', 'claymason313', 'simranshahsingh', 'pooshanshah', 'mariegmeow', 'joy79419', 'singhacx', 'sherlleyliving', 'eekeepaa', 'pallavi_sehgal93', '10anshul03', 'ishalitiwari', 'shubhammit', 'shalu_1691', 'lil_adang', 'teerugupta', 'therightamountofreal', 'alternaterohan', 'hknopf_421', 'alysunbrown', 'harshitbandi', 'rs_bathija', '0507ashish', 'avinashdamera', 'manasa.anand1', 'ambastha.abhishek', 'pankhuri.choudhary.3', 'sparsh_falcon', 'a.v.a.n.i', '_rajatmalhotra_', 'sherlexter', 'sanjaysatish', 'xrahulj', 'saasheen_myulee', 'kanzzzyyyyy', 'arushi.goyal.1', 'akhilesh.reddy4', 'mradul.yadav11', 'shik1392', 'obuli.vignesh', 'kitttu_kartheek', 'creative.reels', 'mayank5585', 'pahalpatangia', 'satya.prakash.73594479', 'shruti_1504', 'sandeep7257', 'littlebitofall', 'tanmaypurohit', 'rahulagrawal8573', 'mayanksundriyal', 'mahikamehta', 'shreyaaggarwal_18', 'extinct_thinker', 'ravi_agrawal_21', 'sinchan.mukherjee.3', 'stutijainsaini', 'tanmayghosh2507', 'sanatan.20', 'rashi.porwal', 'tej_oh', 'g.javin', 'siddhant_719', 'anindyasankardas', 'im_manngupta', 'shivamchaturvedi_', '_rajnitiwari', 'shutterbug_ravi', 'jasmeetawal', 'manas_modi', 'goel.navneet', 'agarwal.mahak', 'kachroodharna', 'rayshru.17', 'akshatrajput_1408', 'smittal92', 'ashuagrawal93', '_ekanshsaxena_', 'niharika_2492', 'pooja_4', 'devangr21', 'michaelxu2017', 'vedant.mishra.7', 'rajat__narang', 'karan.kh25', 'lotus.iitr', 'ankitashah2310', 'arpit_jhawar', 't.i.m.e_dehradun', 'rujula.maheshwari', '_travelnotebook', 'vishiagrawala', 'peejay_leo', 'hawk7eye', 'anmol.saxena1', 'the.lost.tribes', 'somilbhargava', 'kaliyarohan', 'sachin.goyal007', 'shubhamag17', 'theaniketroy', 'raman_kolli', 'kulhria', 'amkumar12', 'theakshatgarg', 'birju_world', 'caanjalibandi', 'raunakiitr', 'poorvi2704', 'mohitgarg2305', 'wealthyentrepreneurmagazine', 'manas_modi_', 'sarthakdubey1061', 'satyamsid', 'thatneutron', 'maulikchitransh', 'nishanttyagi1702', 'sheregill_', 'iamvkgattu', '_samresh', 'vijayks786', 'rajatjindal05', 'tormal_patodia', 'prashant2381', 'ankur_krishna_gautam', 'sonal.seth', 'surabhilakhawat', 'tariqk30', 'arpita_3103', 'nishant57', 'ashutoshbaghel11', 'anupam_ku', 'concept357', 'gaurav.gkg', 'mr_nerdexy', 'ayamit92', 'siddhant.saraf', 'lad.mukund', 'aay_gup', 'adityajain93', 'rohitkolloju', 'ankita.m_', 'javvajivenky', 'rishu.ngh', 'anshuldeedwania', 'preesy.atul', 'rahulagrawal1693', 'deboleenaroy', 'gauravk_92', 'digvj_maheshwari', 'saievani', 'sakshi_kapoor', 'fuhar.dixit', 'pruck.hur', 'vipinbansal92', 'nishit_misra', 'animeshsinha.7', 'nippungoyal', 'baiweicheng', 'ashish21ghosh', 'imkkcool', 'sinha_tanyaa', 'shubhamg31', 'akash.soni93', 'akhilesh_kumar', 'varshneyprakhar', 'mayank.agarwal2404', 'saurabh.patil.18007', 'habs01', 'priyanshutaparia', 'shubhamiitr17101992', 'bom_diggydiggy', 'abhijeetdaglia', '_fpcosta']\n"
     ]
    }
   ],
   "source": [
    "# Extract all the user ids of all the followers in a list\n",
    "all_followers = browser.find_element_by_class_name('isgrP')\n",
    "followers = []\n",
    "for i in all_followers.find_elements_by_css_selector('li'):\n",
    "     followers.append(i.text.split()[0]) \n",
    "print ('The followers for this user are:\\n',followers)"
   ]
  },
  {
   "cell_type": "code",
   "execution_count": 515,
   "metadata": {},
   "outputs": [],
   "source": [
    "# Close the followers pop-up box\n",
    "browser.find_element_by_xpath('/html/body/div[3]/div/div/div[1]/div/div[2]/button/span').click()"
   ]
  },
  {
   "cell_type": "markdown",
   "metadata": {},
   "source": [
    "#### Get the total number of followers for each of your follower"
   ]
  },
  {
   "cell_type": "code",
   "execution_count": 530,
   "metadata": {},
   "outputs": [],
   "source": [
    "followers_info = pd.DataFrame(columns = ['user_id','users_followers_count'])\n",
    "for each_follower in followers:\n",
    "    search =  browser.find_element_by_xpath('//*[@id=\"react-root\"]/section/nav/div[2]/div/div/div[2]/input')\n",
    "    # Enter the search query\n",
    "    search.send_keys(each_follower)\n",
    "    time.sleep(3)\n",
    "    search.send_keys(Keys.ENTER)\n",
    "    time.sleep(3)\n",
    "    search.send_keys(Keys.ENTER)\n",
    "    #search.send_keys(Keys.CONTROL + \"a\")\n",
    "    search.send_keys(Keys.DELETE)\n",
    "    followers_count_user = int(browser.find_element_by_xpath(\"//span[@id='react-root']//span[@title]\").text)\n",
    "    followers_info.loc[len(followers_info)] = [each_follower,followers_count_user]   "
   ]
  }
 ],
 "metadata": {
  "kernelspec": {
   "display_name": "Python 3",
   "language": "python",
   "name": "python3"
  },
  "language_info": {
   "codemirror_mode": {
    "name": "ipython",
    "version": 3
   },
   "file_extension": ".py",
   "mimetype": "text/x-python",
   "name": "python",
   "nbconvert_exporter": "python",
   "pygments_lexer": "ipython3",
   "version": "3.6.5"
  }
 },
 "nbformat": 4,
 "nbformat_minor": 2
}
