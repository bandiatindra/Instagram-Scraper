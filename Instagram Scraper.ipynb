{
 "cells": [
  {
   "cell_type": "code",
   "execution_count": 7,
   "metadata": {},
   "outputs": [],
   "source": [
    "from time import sleep\n",
    "from selenium import webdriver\n",
    "from selenium.webdriver.common.action_chains import ActionChains\n",
    "\n",
    "from selenium.webdriver.chrome.options import Options\n",
    "from selenium.webdriver.support.ui import WebDriverWait\n",
    "from selenium.webdriver.common.by import By\n",
    "from selenium.webdriver.support import expected_conditions as EC"
   ]
  },
  {
   "cell_type": "code",
   "execution_count": 9,
   "metadata": {},
   "outputs": [],
   "source": [
    "# Update the location of your chromedriver\n",
    "browser = webdriver.Chrome('C:/Users/bandi/Desktop/Text Analytics/TA Session/chromedriver_win32/chromedriver')\n",
    "browser.get('https://www.instagram.com')\n",
    "\n",
    "#sleep(10)\n",
    "\n",
    "login_elem = browser.find_element_by_xpath('//*[@id=\"react-root\"]/section/main/article/div[2]/div[2]/p/a')\n",
    "login_elem.click()\n",
    "sleep(3)"
   ]
  },
  {
   "cell_type": "code",
   "execution_count": 10,
   "metadata": {},
   "outputs": [],
   "source": [
    "if __name__ == \"__main__\":    \n",
    "    \n",
    "    uname = browser.find_element_by_name(\"username\")\n",
    "    uname.send_keys('ENTER YOUR USER NAME')\n",
    "    sleep(1)\n",
    "\n",
    "    passw = browser.find_element_by_name(\"password\")\n",
    "    passw.send_keys('ENTER YOUR PASSWORD')\n",
    "    sleep(1)\n",
    "    login_button = browser.find_element_by_xpath('//*[@id=\"react-root\"]/section/main/div/article/div/div[1]/div/form/div[3]/button').click()\n",
    "   # browser.find_element_by_xpath('//*[@id=\"react-root\"]/section/nav/div[2]/div/div/div[3]/div/div[3]').click()\n"
   ]
  },
  {
   "cell_type": "code",
   "execution_count": 11,
   "metadata": {},
   "outputs": [],
   "source": [
    "from selenium import webdriver\n",
    "from selenium.webdriver.common.keys import Keys\n",
    "import time\n",
    "# Find the search element on the homepage\n",
    "time.sleep(2)\n",
    "search =  browser.find_element_by_xpath('//*[@id=\"react-root\"]/section/nav/div[2]/div/div/div[2]/input')\n",
    "# Enter the search query\n",
    "search.send_keys('whitehouse')\n",
    "time.sleep(2)\n",
    "search.send_keys(Keys.ENTER)\n",
    "time.sleep(2)\n",
    "search.send_keys(Keys.ENTER)"
   ]
  },
  {
   "cell_type": "code",
   "execution_count": 12,
   "metadata": {},
   "outputs": [],
   "source": [
    "SCROLL_PAUSE_TIME = 0.5\n",
    "\n",
    "# Get scroll height\n",
    "last_height = browser.execute_script(\"return document.body.scrollHeight\")\n",
    "\n",
    "while True:\n",
    "    # Scroll down to bottom\n",
    "    browser.execute_script(\"window.scrollTo(0, document.body.scrollHeight);\")\n",
    "\n",
    "    # Wait to load page\n",
    "    time.sleep(SCROLL_PAUSE_TIME)\n",
    "\n",
    "    # Calculate new scroll height and compare with last scroll height\n",
    "    new_height = browser.execute_script(\"return document.body.scrollHeight\")\n",
    "    if new_height == last_height:\n",
    "        break\n",
    "    last_height = new_height"
   ]
  },
  {
   "cell_type": "code",
   "execution_count": 13,
   "metadata": {},
   "outputs": [],
   "source": [
    "# This coe is downloading some images from the whitehouse page of instagram. \n",
    "\n",
    "import urllib.request\n",
    "for k in range(12):\n",
    "    \n",
    "    \n",
    "    for i in range(3):\n",
    "        for j in range(3):\n",
    "            ddddd = browser.find_element_by_xpath('//*[@id=\"react-root\"]/section/main/div/div[3]/article/div[1]/div/div[' + str(i+1+k) + ']/div[' + str(j+1) + ']/a/div[1]/div[1]/img')\n",
    "            ddddd.get_attribute('src')\n",
    "            urllib.request.urlretrieve(ddddd.get_attribute('src'), \"my_picture_\" +str(i+1+k)+ \"_\" + str(j+1)+\".jpg\")\n",
    "            #time.sleep(1)\n",
    "        #browser.execute_script(\"window.scrollTo(0, document.body.scrollHeight);\")       \n"
   ]
  },
  {
   "cell_type": "code",
   "execution_count": null,
   "metadata": {},
   "outputs": [],
   "source": []
  }
 ],
 "metadata": {
  "kernelspec": {
   "display_name": "Python 3",
   "language": "python",
   "name": "python3"
  },
  "language_info": {
   "codemirror_mode": {
    "name": "ipython",
    "version": 3
   },
   "file_extension": ".py",
   "mimetype": "text/x-python",
   "name": "python",
   "nbconvert_exporter": "python",
   "pygments_lexer": "ipython3",
   "version": "3.6.5"
  }
 },
 "nbformat": 4,
 "nbformat_minor": 2
}
